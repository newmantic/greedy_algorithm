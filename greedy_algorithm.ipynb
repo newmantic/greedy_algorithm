{
  "nbformat": 4,
  "nbformat_minor": 0,
  "metadata": {
    "colab": {
      "provenance": [],
      "authorship_tag": "ABX9TyM0U4Gi6x3trkdNNafj00Uu",
      "include_colab_link": true
    },
    "kernelspec": {
      "name": "python3",
      "display_name": "Python 3"
    },
    "language_info": {
      "name": "python"
    }
  },
  "cells": [
    {
      "cell_type": "markdown",
      "metadata": {
        "id": "view-in-github",
        "colab_type": "text"
      },
      "source": [
        "<a href=\"https://colab.research.google.com/github/newmantic/greedy_algorithm/blob/main/greedy_algorithm.ipynb\" target=\"_parent\"><img src=\"https://colab.research.google.com/assets/colab-badge.svg\" alt=\"Open In Colab\"/></a>"
      ]
    },
    {
      "cell_type": "code",
      "execution_count": 1,
      "metadata": {
        "colab": {
          "base_uri": "https://localhost:8080/"
        },
        "id": "BTuiDtt9oQUZ",
        "outputId": "820f2830-b450-4821-82c4-8fb8e07a22a0"
      },
      "outputs": [
        {
          "output_type": "stream",
          "name": "stdout",
          "text": [
            "Selected activities: [(1, 3), (3, 5), (5, 7), (8, 9)]\n"
          ]
        }
      ],
      "source": [
        "def activity_selection(activities):\n",
        "    \"\"\"\n",
        "    Select the maximum number of activities that don't overlap.\n",
        "\n",
        "    Parameters:\n",
        "    activities (list of tuples): A list of activities, each represented as a tuple (start_time, end_time).\n",
        "\n",
        "    Returns:\n",
        "    list: A list of selected activities (tuples) that don't overlap.\n",
        "    \"\"\"\n",
        "    # Sort activities by their end time\n",
        "    activities.sort(key=lambda x: x[1])\n",
        "\n",
        "    # The first activity always gets selected\n",
        "    selected_activities = [activities[0]]\n",
        "    last_end_time = activities[0][1]\n",
        "\n",
        "    # Iterate through the sorted activities\n",
        "    for i in range(1, len(activities)):\n",
        "        if activities[i][0] >= last_end_time:\n",
        "            selected_activities.append(activities[i])\n",
        "            last_end_time = activities[i][1]\n",
        "\n",
        "    return selected_activities\n",
        "\n",
        "# Testable example:\n",
        "activities = [(1, 3), (2, 4), (3, 5), (0, 6), (5, 7), (8, 9), (5, 9)]\n",
        "selected_activities = activity_selection(activities)\n",
        "print(f\"Selected activities: {selected_activities}\")"
      ]
    },
    {
      "cell_type": "code",
      "source": [
        "def fractional_knapsack(weights, values, capacity):\n",
        "    \"\"\"\n",
        "    Solve the fractional knapsack problem using a greedy approach.\n",
        "\n",
        "    Parameters:\n",
        "    weights (list): List of item weights.\n",
        "    values (list): List of item values.\n",
        "    capacity (int): Capacity of the knapsack.\n",
        "\n",
        "    Returns:\n",
        "    float: Maximum value that can be obtained.\n",
        "    \"\"\"\n",
        "    # Create a list of items with value-to-weight ratio\n",
        "    items = [(values[i] / weights[i], weights[i], values[i]) for i in range(len(weights))]\n",
        "\n",
        "    # Sort items by value-to-weight ratio in descending order\n",
        "    items.sort(reverse=True, key=lambda x: x[0])\n",
        "\n",
        "    max_value = 0.0\n",
        "    for ratio, weight, value in items:\n",
        "        if capacity > 0:\n",
        "            # Take as much as possible of the highest value-to-weight item\n",
        "            take = min(weight, capacity)\n",
        "            max_value += take * ratio\n",
        "            capacity -= take\n",
        "        else:\n",
        "            break\n",
        "\n",
        "    return max_value\n",
        "\n",
        "# Testable example:\n",
        "weights = [10, 20, 30]\n",
        "values = [60, 100, 120]\n",
        "capacity = 50\n",
        "max_value = fractional_knapsack(weights, values, capacity)\n",
        "print(f\"Maximum value in fractional knapsack: {max_value:.2f}\")"
      ],
      "metadata": {
        "colab": {
          "base_uri": "https://localhost:8080/"
        },
        "id": "JCBTrstVoVij",
        "outputId": "3be7b452-a33c-4476-bb4e-662021cde953"
      },
      "execution_count": 2,
      "outputs": [
        {
          "output_type": "stream",
          "name": "stdout",
          "text": [
            "Maximum value in fractional knapsack: 240.00\n"
          ]
        }
      ]
    },
    {
      "cell_type": "code",
      "source": [
        "import heapq\n",
        "from collections import defaultdict, Counter\n",
        "\n",
        "class HuffmanNode:\n",
        "    def __init__(self, char, freq):\n",
        "        self.char = char\n",
        "        self.freq = freq\n",
        "        self.left = None\n",
        "        self.right = None\n",
        "\n",
        "    def __lt__(self, other):\n",
        "        return self.freq < other.freq\n",
        "\n",
        "def huffman_coding(frequency):\n",
        "    \"\"\"\n",
        "    Generate Huffman codes for characters based on their frequencies.\n",
        "\n",
        "    Parameters:\n",
        "    frequency (dict): A dictionary with characters as keys and their frequencies as values.\n",
        "\n",
        "    Returns:\n",
        "    dict: A dictionary with characters as keys and their Huffman codes as values.\n",
        "    \"\"\"\n",
        "    # Create a priority queue (min-heap) of Huffman nodes\n",
        "    heap = [HuffmanNode(char, freq) for char, freq in frequency.items()]\n",
        "    heapq.heapify(heap)\n",
        "\n",
        "    # Build the Huffman tree\n",
        "    while len(heap) > 1:\n",
        "        node1 = heapq.heappop(heap)\n",
        "        node2 = heapq.heappop(heap)\n",
        "        merged = HuffmanNode(None, node1.freq + node2.freq)\n",
        "        merged.left = node1\n",
        "        merged.right = node2\n",
        "        heapq.heappush(heap, merged)\n",
        "\n",
        "    # Generate Huffman codes\n",
        "    root = heap[0]\n",
        "    huffman_codes = {}\n",
        "    def generate_codes(node, current_code):\n",
        "        if node is not None:\n",
        "            if node.char is not None:\n",
        "                huffman_codes[node.char] = current_code\n",
        "            generate_codes(node.left, current_code + \"0\")\n",
        "            generate_codes(node.right, current_code + \"1\")\n",
        "\n",
        "    generate_codes(root, \"\")\n",
        "    return huffman_codes\n",
        "\n",
        "# Testable example:\n",
        "text = \"huffman coding is a data compression algorithm\"\n",
        "frequency = Counter(text)\n",
        "huffman_codes = huffman_coding(frequency)\n",
        "print(f\"Huffman Codes: {huffman_codes}\")\n",
        "encoded_text = ''.join(huffman_codes[char] for char in text)\n",
        "print(f\"Encoded text: {encoded_text}\")"
      ],
      "metadata": {
        "colab": {
          "base_uri": "https://localhost:8080/"
        },
        "id": "ZciJpnWXoYlv",
        "outputId": "0f86da1f-432e-4bce-bf77-94305401f62d"
      },
      "execution_count": 3,
      "outputs": [
        {
          "output_type": "stream",
          "name": "stdout",
          "text": [
            "Huffman Codes: {'g': '0000', 'd': '0001', 't': '0010', 'f': '0011', 'r': '0100', 's': '0101', 'a': '011', 'n': '1000', 'm': '1001', ' ': '101', 'p': '110000', 'l': '110001', 'c': '11001', 'i': '1101', 'o': '1110', 'h': '11110', 'e': '111110', 'u': '111111'}\n",
            "Encoded text: 11110111111001100111001011100010111001111000011101100000001011101010110101110100010110010011101110011110100111000001001111100101010111011110100010101111000100001110010011010010111101001\n"
          ]
        }
      ]
    }
  ]
}